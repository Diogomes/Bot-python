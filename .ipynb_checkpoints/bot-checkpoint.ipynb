{
 "cells": [
  {
   "cell_type": "code",
   "execution_count": 12,
   "id": "f9ac09c0-ac02-4774-94b1-39402abb068b",
   "metadata": {},
   "outputs": [],
   "source": [
    "# abrir a ferramenta/o sistema/o programa\n",
    "pyautogui.press(\"win\")\n",
    "pyautogui.write(\"login.xlsx\")\n",
    "pyautogui.press(\"backspace\")\n",
    "pyautogui.press(\"enter\")\n",
    "\n",
    "# preencher o login\n",
    "pyautogui.click(x=500, y=186)\n",
    "pyautogui.write(\"Diogo\")\n",
    "\n",
    "# preencher a senha\n",
    "pyautogui.click(x=511, y=225)\n",
    "pyautogui.write(\"senha\")\n",
    "\n",
    "# clicar em fazer login\n",
    "pyautogui.click(x=491, y=347)\n",
    "#pyautogui.write(\"login-test.xlsx\")\n",
    "#pyautogui.press(\"backspace\")\n",
    "#pyautogui.press(\"enter\")"
   ]
  },
  {
   "cell_type": "code",
   "execution_count": null,
   "id": "65c615e2-368a-4aa1-8155-ef07626c5d9d",
   "metadata": {},
   "outputs": [],
   "source": []
  },
  {
   "cell_type": "code",
   "execution_count": null,
   "id": "4021c9d9-c080-41e5-8467-7f6c531cd9a8",
   "metadata": {},
   "outputs": [],
   "source": [
    "# chrome -> chromedriver\n",
    "# firefox -> geckodriver\n",
    "from selenium import webdriver\n",
    "import time\n",
    "\n",
    "navegador = webdriver.Chrome()\n",
    "navegador.get(\"https://login.live.com/\")\n",
    "time.sleep(1)\n",
    "navegador.find_element_by_xpath('//*[@id=\"i0116\"]').send_keys(\"pythonimpressionador@outlook.com\")\n",
    "navegador.find_element_by_xpath('//*[@id=\"idSIButton9\"]').click()\n",
    "\n",
    "time.sleep(1)\n",
    "\n",
    "navegador.find_element_by_xpath('//*[@id=\"i0118\"]').send_keys(\"Python123123\")\n",
    "navegador.find_element_by_xpath('//*[@id=\"idSIButton9\"]').click()"
   ]
  },
  {
   "cell_type": "code",
   "execution_count": null,
   "id": "e76c703e-6828-455b-9b2e-89a85c1c4d45",
   "metadata": {},
   "outputs": [],
   "source": []
  }
 ],
 "metadata": {
  "kernelspec": {
   "display_name": "Python 3",
   "language": "python",
   "name": "python3"
  },
  "language_info": {
   "codemirror_mode": {
    "name": "ipython",
    "version": 3
   },
   "file_extension": ".py",
   "mimetype": "text/x-python",
   "name": "python",
   "nbconvert_exporter": "python",
   "pygments_lexer": "ipython3",
   "version": "3.8.8"
  }
 },
 "nbformat": 4,
 "nbformat_minor": 5
}
