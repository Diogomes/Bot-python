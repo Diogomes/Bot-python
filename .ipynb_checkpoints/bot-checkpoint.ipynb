{
 "cells": [
  {
   "cell_type": "code",
   "execution_count": 6,
   "id": "f9ac09c0-ac02-4774-94b1-39402abb068b",
   "metadata": {},
   "outputs": [],
   "source": [
    "import pyautogui\n",
    "#criando bot local\n",
    "pyautogui.press(\"win\")\n",
    "pyautogui.write(\"login-test.xlsx\")\n",
    "pyautogui.press(\"backspace\")\n",
    "pyautogui.press(\"enter\")"
   ]
  },
  {
   "cell_type": "code",
   "execution_count": null,
   "id": "65c615e2-368a-4aa1-8155-ef07626c5d9d",
   "metadata": {},
   "outputs": [],
   "source": []
  }
 ],
 "metadata": {
  "kernelspec": {
   "display_name": "Python 3",
   "language": "python",
   "name": "python3"
  },
  "language_info": {
   "codemirror_mode": {
    "name": "ipython",
    "version": 3
   },
   "file_extension": ".py",
   "mimetype": "text/x-python",
   "name": "python",
   "nbconvert_exporter": "python",
   "pygments_lexer": "ipython3",
   "version": "3.8.8"
  }
 },
 "nbformat": 4,
 "nbformat_minor": 5
}
